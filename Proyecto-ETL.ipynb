{
 "cells": [
  {
   "cell_type": "code",
   "execution_count": 1,
   "id": "c5c3253f",
   "metadata": {},
   "outputs": [],
   "source": [
    "import multiprocessing as mp"
   ]
  },
  {
   "cell_type": "code",
   "execution_count": 2,
   "id": "fe1443cb",
   "metadata": {},
   "outputs": [],
   "source": [
    "from selenium import webdriver"
   ]
  },
  {
   "cell_type": "code",
   "execution_count": 3,
   "id": "6fcb25c6",
   "metadata": {},
   "outputs": [],
   "source": [
    "import pandas as pd\n",
    "from selenium.webdriver.chrome.options import Options\n",
    "from webdriver_manager.chrome import ChromeDriverManager\n",
    "import numpy as np\n",
    "import csv"
   ]
  },
  {
   "cell_type": "code",
   "execution_count": 4,
   "id": "77da3455",
   "metadata": {},
   "outputs": [],
   "source": [
    "import requests as req\n",
    "\n",
    "from bs4 import BeautifulSoup as bs"
   ]
  },
  {
   "cell_type": "code",
   "execution_count": 5,
   "id": "7efcba94",
   "metadata": {},
   "outputs": [],
   "source": [
    "import time   # para manejar tiempo\n",
    "\n",
    "from selenium.webdriver.chrome.options import Options\n",
    "\n",
    "from selenium.webdriver.common.by import By   # para buscar segun tag, id, class, etc...\n",
    "\n",
    "from selenium.webdriver.support.ui import WebDriverWait   # es para esperar\n",
    "\n",
    "from selenium.webdriver.support import expected_conditions as EC  # condiciones esperadas...\n",
    "\n",
    "from selenium.webdriver import ActionChains as AC   # acciones encadenadas, rollo doble click\n",
    "\n",
    "from selenium.webdriver.common.keys import Keys  # manejar teclas\n",
    "\n",
    "\n",
    "import warnings\n",
    "warnings.filterwarnings('ignore')"
   ]
  },
  {
   "cell_type": "code",
   "execution_count": 6,
   "id": "b8b75b0e",
   "metadata": {},
   "outputs": [],
   "source": [
    "path = r'C:\\Users\\pabli\\apuntes_de_clase\\Projecto ETL\\cause_of_deaths.csv'\n",
    "data_cause = pd.read_csv(path)\n",
    "\n"
   ]
  },
  {
   "cell_type": "code",
   "execution_count": 7,
   "id": "67af69ef",
   "metadata": {},
   "outputs": [
    {
     "ename": "NameError",
     "evalue": "name 'data' is not defined",
     "output_type": "error",
     "traceback": [
      "\u001b[1;31m---------------------------------------------------------------------------\u001b[0m",
      "\u001b[1;31mNameError\u001b[0m                                 Traceback (most recent call last)",
      "Input \u001b[1;32mIn [7]\u001b[0m, in \u001b[0;36m<cell line: 1>\u001b[1;34m()\u001b[0m\n\u001b[1;32m----> 1\u001b[0m \u001b[43mdata\u001b[49m\u001b[38;5;241m.\u001b[39mYear\u001b[38;5;241m.\u001b[39mhead()\n",
      "\u001b[1;31mNameError\u001b[0m: name 'data' is not defined"
     ]
    }
   ],
   "source": [
    "data.Year.head()"
   ]
  },
  {
   "cell_type": "code",
   "execution_count": null,
   "id": "69df2458",
   "metadata": {},
   "outputs": [],
   "source": [
    "opciones=Options()\n",
    "\n",
    "#opciones.add_experimental_option('excludeSwitches', ['enable-automation'])\n",
    "#opciones.add_experimental_option('useAutomationExtension', False)\n",
    "opciones.headless=False    # si True, no aperece la ventana (headless=no visible)\n",
    "opciones.add_argument('--start-maximized')         # comienza maximizado\n",
    "#opciones.add_argument('user-data-dir=selenium')    # mantiene las cookies\n",
    "opciones.add_extension(r'C:\\Users\\pabli\\apuntes_de_clase\\Projecto ETL\\5.3.0-Crx4Chrome.com.crx')       # adblocker\n",
    "opciones.add_argument('--incognito')"
   ]
  },
  {
   "cell_type": "code",
   "execution_count": 8,
   "id": "a5f5a8ce",
   "metadata": {},
   "outputs": [],
   "source": [
    "from joblib import Parallel, delayed"
   ]
  },
  {
   "cell_type": "code",
   "execution_count": null,
   "id": "f8935655",
   "metadata": {},
   "outputs": [],
   "source": [
    "from webdriver_manager.chrome import ChromeDriverManager"
   ]
  },
  {
   "cell_type": "code",
   "execution_count": null,
   "id": "e0a69b26",
   "metadata": {},
   "outputs": [],
   "source": [
    "PATH=ChromeDriverManager().install()"
   ]
  },
  {
   "cell_type": "code",
   "execution_count": null,
   "id": "52840ea4",
   "metadata": {},
   "outputs": [],
   "source": [
    "driver=webdriver.Chrome(PATH, options=opciones)"
   ]
  },
  {
   "cell_type": "code",
   "execution_count": null,
   "id": "dbfba081",
   "metadata": {},
   "outputs": [],
   "source": [
    "url = \"http://www.geoba.se/population.php?pc=world&type=28&year=2000&st=country&asde=&page=1\""
   ]
  },
  {
   "cell_type": "code",
   "execution_count": null,
   "id": "84359f7c",
   "metadata": {},
   "outputs": [],
   "source": [
    "html=req.get(url).text\n",
    "soup=bs(html, 'html.parser')"
   ]
  },
  {
   "cell_type": "code",
   "execution_count": null,
   "id": "163849f9",
   "metadata": {},
   "outputs": [],
   "source": [
    "rows = soup.find_all(\"tr\",class_ = 'bb')"
   ]
  },
  {
   "cell_type": "code",
   "execution_count": null,
   "id": "177c1880",
   "metadata": {},
   "outputs": [],
   "source": [
    "len(rows)"
   ]
  },
  {
   "cell_type": "code",
   "execution_count": null,
   "id": "e6f7864a",
   "metadata": {},
   "outputs": [],
   "source": [
    "len(rows[0](\"td\"))"
   ]
  },
  {
   "cell_type": "code",
   "execution_count": null,
   "id": "96421a9d",
   "metadata": {},
   "outputs": [],
   "source": [
    "driver=webdriver.Chrome(PATH, options=opciones)\n",
    "driver.get(url)\n",
    "time.sleep(2)\n",
    "table_rows= driver.find_element(By.CSS_SELECTOR, '#wrap > div.container-fluid.container-custom > div.container > div:nth-child(2) > div.col-md-7 > div.table-responsive > table > tbody').find_elements(By.TAG_NAME,\"tr\")\n"
   ]
  },
  {
   "cell_type": "code",
   "execution_count": 9,
   "id": "e911b495",
   "metadata": {},
   "outputs": [],
   "source": [
    "lst_url = []\n",
    "for e in range(2000,2010):\n",
    "    for i in range(1,4):\n",
    "        lst_url.append(f\"http://www.geoba.se/population.php?pc=world&type=28&year={str(e)}&st=country&asde=&page={str(i)}\")\n",
    "    "
   ]
  },
  {
   "cell_type": "code",
   "execution_count": 10,
   "id": "2b70ab93",
   "metadata": {},
   "outputs": [],
   "source": [
    "lst_url2 = []\n",
    "for e in range(2010,2020):\n",
    "    for i in range(1,4):\n",
    "        lst_url.append(f\"http://www.geoba.se/population.php?pc=world&type=28&year={str(e)}&st=country&asde=&page={str(i)}\")"
   ]
  },
  {
   "cell_type": "code",
   "execution_count": null,
   "id": "9fc847ae",
   "metadata": {},
   "outputs": [],
   "source": [
    "type(int(len(lst_url)/2))"
   ]
  },
  {
   "cell_type": "code",
   "execution_count": null,
   "id": "838ed050",
   "metadata": {},
   "outputs": [],
   "source": [
    "from selenium.webdriver.support.wait import WebDriverWait"
   ]
  },
  {
   "cell_type": "code",
   "execution_count": 11,
   "id": "46b75862",
   "metadata": {},
   "outputs": [
    {
     "name": "stdout",
     "output_type": "stream",
     "text": [
      "CPU times: total: 0 ns\n",
      "Wall time: 0 ns\n"
     ]
    }
   ],
   "source": [
    "%%time\n",
    "def extraer(url):\n",
    "    try:\n",
    "        html=req.get(url).text\n",
    "        soup=bs(html, 'html.parser')\n",
    "        lst = []\n",
    "        rows = soup.find_all(\"tr\",class_ = 'bb')\n",
    "        time.sleep(2)\n",
    "        for i in range(len(rows)):\n",
    "            data= rows[i](\"td\")\n",
    "            lst1 = []\n",
    "            for j in range(4):\n",
    "                time.sleep(1)\n",
    "                \n",
    "                lst1.append(data[j].text)\n",
    "            lst.append(lst1)\n",
    "        \n",
    "        return pd.DataFrame(lst, columns=[\"rank\",\"country\",\"population\",\"year\"])\n",
    "    except:\n",
    "        print(url)\n",
    "\n",
    "    \n",
    "    \n",
    "    "
   ]
  },
  {
   "cell_type": "code",
   "execution_count": 12,
   "id": "9b6f2258",
   "metadata": {},
   "outputs": [
    {
     "data": {
      "text/plain": [
       "8"
      ]
     },
     "execution_count": 12,
     "metadata": {},
     "output_type": "execute_result"
    }
   ],
   "source": [
    "mp.cpu_count()"
   ]
  },
  {
   "cell_type": "code",
   "execution_count": null,
   "id": "243aed3f",
   "metadata": {},
   "outputs": [],
   "source": [
    "html=req.get(url).text\n",
    "soup=bs(html, 'html.parser')\n",
    "lst = []\n",
    "rows = soup.find_all(\"tr\",class_ = 'bb')"
   ]
  },
  {
   "cell_type": "code",
   "execution_count": 13,
   "id": "b6f402fb",
   "metadata": {},
   "outputs": [],
   "source": [
    "from tqdm.notebook import tqdm"
   ]
  },
  {
   "cell_type": "code",
   "execution_count": 14,
   "id": "c10cd0bb",
   "metadata": {},
   "outputs": [
    {
     "data": {
      "application/vnd.jupyter.widget-view+json": {
       "model_id": "58bdb8e360c44314b3d72387a06e0c6a",
       "version_major": 2,
       "version_minor": 0
      },
      "text/plain": [
       "  0%|          | 0/60 [00:00<?, ?it/s]"
      ]
     },
     "metadata": {},
     "output_type": "display_data"
    },
    {
     "name": "stderr",
     "output_type": "stream",
     "text": [
      "[Parallel(n_jobs=7)]: Using backend LokyBackend with 7 concurrent workers.\n",
      "[Parallel(n_jobs=7)]: Done  36 tasks      | elapsed: 29.1min\n",
      "[Parallel(n_jobs=7)]: Done  60 out of  60 | elapsed: 46.6min finished\n"
     ]
    }
   ],
   "source": [
    "lst_df=Parallel(n_jobs=7, verbose=True)(delayed(extraer)(url) for url in tqdm(lst_url))"
   ]
  },
  {
   "cell_type": "code",
   "execution_count": null,
   "id": "6ebec366",
   "metadata": {},
   "outputs": [],
   "source": [
    "lst_df2=Parallel(n_jobs=7, verbose=True)(delayed(extraer)(url) for url in tqdm(lst_url2))"
   ]
  },
  {
   "cell_type": "code",
   "execution_count": null,
   "id": "e7a76133",
   "metadata": {},
   "outputs": [],
   "source": [
    "lst"
   ]
  },
  {
   "cell_type": "code",
   "execution_count": 29,
   "id": "99df5dbc",
   "metadata": {},
   "outputs": [
    {
     "data": {
      "text/plain": [
       "60"
      ]
     },
     "execution_count": 29,
     "metadata": {},
     "output_type": "execute_result"
    }
   ],
   "source": [
    "len(lst_df)"
   ]
  },
  {
   "cell_type": "code",
   "execution_count": null,
   "id": "d7ff0180",
   "metadata": {},
   "outputs": [],
   "source": [
    "lst_df[0]"
   ]
  },
  {
   "cell_type": "code",
   "execution_count": 36,
   "id": "c2bb82cd",
   "metadata": {},
   "outputs": [
    {
     "data": {
      "text/html": [
       "<div>\n",
       "<style scoped>\n",
       "    .dataframe tbody tr th:only-of-type {\n",
       "        vertical-align: middle;\n",
       "    }\n",
       "\n",
       "    .dataframe tbody tr th {\n",
       "        vertical-align: top;\n",
       "    }\n",
       "\n",
       "    .dataframe thead th {\n",
       "        text-align: right;\n",
       "    }\n",
       "</style>\n",
       "<table border=\"1\" class=\"dataframe\">\n",
       "  <thead>\n",
       "    <tr style=\"text-align: right;\">\n",
       "      <th></th>\n",
       "      <th>rank</th>\n",
       "      <th>country</th>\n",
       "      <th>population</th>\n",
       "      <th>year</th>\n",
       "    </tr>\n",
       "  </thead>\n",
       "  <tbody>\n",
       "    <tr>\n",
       "      <th>0</th>\n",
       "      <td>20.</td>\n",
       "      <td>Thailand</td>\n",
       "      <td>66,336,256</td>\n",
       "      <td>2010</td>\n",
       "    </tr>\n",
       "    <tr>\n",
       "      <th>1</th>\n",
       "      <td>177.</td>\n",
       "      <td>The Bahamas</td>\n",
       "      <td>310,426</td>\n",
       "      <td>2010</td>\n",
       "    </tr>\n",
       "    <tr>\n",
       "      <th>2</th>\n",
       "      <td>148.</td>\n",
       "      <td>The Gambia</td>\n",
       "      <td>1,755,456</td>\n",
       "      <td>2010</td>\n",
       "    </tr>\n",
       "    <tr>\n",
       "      <th>3</th>\n",
       "      <td>100.</td>\n",
       "      <td>Togo</td>\n",
       "      <td>6,587,239</td>\n",
       "      <td>2010</td>\n",
       "    </tr>\n",
       "    <tr>\n",
       "      <th>4</th>\n",
       "      <td>192.</td>\n",
       "      <td>Tonga</td>\n",
       "      <td>105,632</td>\n",
       "      <td>2010</td>\n",
       "    </tr>\n",
       "    <tr>\n",
       "      <th>5</th>\n",
       "      <td>156.</td>\n",
       "      <td>Trinidad and Tobago</td>\n",
       "      <td>1,228,691</td>\n",
       "      <td>2010</td>\n",
       "    </tr>\n",
       "    <tr>\n",
       "      <th>6</th>\n",
       "      <td>78.</td>\n",
       "      <td>Tunisia</td>\n",
       "      <td>10,525,041</td>\n",
       "      <td>2010</td>\n",
       "    </tr>\n",
       "    <tr>\n",
       "      <th>7</th>\n",
       "      <td>17.</td>\n",
       "      <td>Turkey</td>\n",
       "      <td>77,804,120</td>\n",
       "      <td>2010</td>\n",
       "    </tr>\n",
       "    <tr>\n",
       "      <th>8</th>\n",
       "      <td>116.</td>\n",
       "      <td>Turkmenistan</td>\n",
       "      <td>4,940,916</td>\n",
       "      <td>2010</td>\n",
       "    </tr>\n",
       "    <tr>\n",
       "      <th>9</th>\n",
       "      <td>211.</td>\n",
       "      <td>Turks and Caicos Islands</td>\n",
       "      <td>43,212</td>\n",
       "      <td>2010</td>\n",
       "    </tr>\n",
       "    <tr>\n",
       "      <th>10</th>\n",
       "      <td>223.</td>\n",
       "      <td>Tuvalu</td>\n",
       "      <td>10,472</td>\n",
       "      <td>2010</td>\n",
       "    </tr>\n",
       "    <tr>\n",
       "      <th>11</th>\n",
       "      <td>189.</td>\n",
       "      <td>U.S. Virgin Islands</td>\n",
       "      <td>109,750</td>\n",
       "      <td>2010</td>\n",
       "    </tr>\n",
       "    <tr>\n",
       "      <th>12</th>\n",
       "      <td>37.</td>\n",
       "      <td>Uganda</td>\n",
       "      <td>33,398,682</td>\n",
       "      <td>2010</td>\n",
       "    </tr>\n",
       "    <tr>\n",
       "      <th>13</th>\n",
       "      <td>28.</td>\n",
       "      <td>Ukraine</td>\n",
       "      <td>45,415,596</td>\n",
       "      <td>2010</td>\n",
       "    </tr>\n",
       "    <tr>\n",
       "      <th>14</th>\n",
       "      <td>115.</td>\n",
       "      <td>United Arab Emirates</td>\n",
       "      <td>4,975,593</td>\n",
       "      <td>2010</td>\n",
       "    </tr>\n",
       "    <tr>\n",
       "      <th>15</th>\n",
       "      <td>22.</td>\n",
       "      <td>United Kingdom</td>\n",
       "      <td>62,348,448</td>\n",
       "      <td>2010</td>\n",
       "    </tr>\n",
       "    <tr>\n",
       "      <th>16</th>\n",
       "      <td>3.</td>\n",
       "      <td>United States of America</td>\n",
       "      <td>308,282,048</td>\n",
       "      <td>2010</td>\n",
       "    </tr>\n",
       "    <tr>\n",
       "      <th>17</th>\n",
       "      <td>132.</td>\n",
       "      <td>Uruguay</td>\n",
       "      <td>3,301,076</td>\n",
       "      <td>2010</td>\n",
       "    </tr>\n",
       "    <tr>\n",
       "      <th>18</th>\n",
       "      <td>44.</td>\n",
       "      <td>Uzbekistan</td>\n",
       "      <td>27,865,738</td>\n",
       "      <td>2010</td>\n",
       "    </tr>\n",
       "    <tr>\n",
       "      <th>19</th>\n",
       "      <td>182.</td>\n",
       "      <td>Vanuatu</td>\n",
       "      <td>221,552</td>\n",
       "      <td>2010</td>\n",
       "    </tr>\n",
       "    <tr>\n",
       "      <th>20</th>\n",
       "      <td>45.</td>\n",
       "      <td>Venezuela</td>\n",
       "      <td>27,223,228</td>\n",
       "      <td>2010</td>\n",
       "    </tr>\n",
       "    <tr>\n",
       "      <th>21</th>\n",
       "      <td>13.</td>\n",
       "      <td>Vietnam</td>\n",
       "      <td>89,571,128</td>\n",
       "      <td>2010</td>\n",
       "    </tr>\n",
       "    <tr>\n",
       "      <th>22</th>\n",
       "      <td>220.</td>\n",
       "      <td>Wallis and Futuna</td>\n",
       "      <td>15,343</td>\n",
       "      <td>2010</td>\n",
       "    </tr>\n",
       "    <tr>\n",
       "      <th>23</th>\n",
       "      <td>140.</td>\n",
       "      <td>West Bank</td>\n",
       "      <td>2,514,845</td>\n",
       "      <td>2010</td>\n",
       "    </tr>\n",
       "    <tr>\n",
       "      <th>24</th>\n",
       "      <td>172.</td>\n",
       "      <td>Western Sahara</td>\n",
       "      <td>491,519</td>\n",
       "      <td>2010</td>\n",
       "    </tr>\n",
       "    <tr>\n",
       "      <th>25</th>\n",
       "      <td>49.</td>\n",
       "      <td>Yemen</td>\n",
       "      <td>23,495,360</td>\n",
       "      <td>2010</td>\n",
       "    </tr>\n",
       "    <tr>\n",
       "      <th>26</th>\n",
       "      <td>70.</td>\n",
       "      <td>Zambia</td>\n",
       "      <td>13,460,305</td>\n",
       "      <td>2010</td>\n",
       "    </tr>\n",
       "    <tr>\n",
       "      <th>27</th>\n",
       "      <td>72.</td>\n",
       "      <td>Zimbabwe</td>\n",
       "      <td>11,651,858</td>\n",
       "      <td>2010</td>\n",
       "    </tr>\n",
       "  </tbody>\n",
       "</table>\n",
       "</div>"
      ],
      "text/plain": [
       "    rank                   country   population  year\n",
       "0    20.                  Thailand   66,336,256  2010\n",
       "1   177.               The Bahamas      310,426  2010\n",
       "2   148.                The Gambia    1,755,456  2010\n",
       "3   100.                      Togo    6,587,239  2010\n",
       "4   192.                     Tonga      105,632  2010\n",
       "5   156.       Trinidad and Tobago    1,228,691  2010\n",
       "6    78.                   Tunisia   10,525,041  2010\n",
       "7    17.                    Turkey   77,804,120  2010\n",
       "8   116.              Turkmenistan    4,940,916  2010\n",
       "9   211.  Turks and Caicos Islands       43,212  2010\n",
       "10  223.                    Tuvalu       10,472  2010\n",
       "11  189.       U.S. Virgin Islands      109,750  2010\n",
       "12   37.                    Uganda   33,398,682  2010\n",
       "13   28.                   Ukraine   45,415,596  2010\n",
       "14  115.      United Arab Emirates    4,975,593  2010\n",
       "15   22.            United Kingdom   62,348,448  2010\n",
       "16    3.  United States of America  308,282,048  2010\n",
       "17  132.                   Uruguay    3,301,076  2010\n",
       "18   44.                Uzbekistan   27,865,738  2010\n",
       "19  182.                   Vanuatu      221,552  2010\n",
       "20   45.                 Venezuela   27,223,228  2010\n",
       "21   13.                   Vietnam   89,571,128  2010\n",
       "22  220.         Wallis and Futuna       15,343  2010\n",
       "23  140.                 West Bank    2,514,845  2010\n",
       "24  172.            Western Sahara      491,519  2010\n",
       "25   49.                     Yemen   23,495,360  2010\n",
       "26   70.                    Zambia   13,460,305  2010\n",
       "27   72.                  Zimbabwe   11,651,858  2010"
      ]
     },
     "execution_count": 36,
     "metadata": {},
     "output_type": "execute_result"
    }
   ],
   "source": [
    "lst_df[32]"
   ]
  },
  {
   "cell_type": "code",
   "execution_count": 39,
   "id": "a41d301b",
   "metadata": {},
   "outputs": [],
   "source": [
    "f = [lst_df[0],lst_df[1],lst_df[2]]"
   ]
  },
  {
   "cell_type": "code",
   "execution_count": 99,
   "id": "57cc1a82",
   "metadata": {},
   "outputs": [],
   "source": [
    "g = [lst_df[57],lst_df[58],lst_df[59]]"
   ]
  },
  {
   "cell_type": "code",
   "execution_count": 45,
   "id": "4265fcb5",
   "metadata": {},
   "outputs": [],
   "source": [
    "lsta2 = pd.concat(g, ignore_index= True) "
   ]
  },
  {
   "cell_type": "code",
   "execution_count": 52,
   "id": "88b3bdd2",
   "metadata": {},
   "outputs": [],
   "source": [
    "lsta3 = pd.concat(g, ignore_index= True) "
   ]
  },
  {
   "cell_type": "code",
   "execution_count": 55,
   "id": "184d9f48",
   "metadata": {},
   "outputs": [],
   "source": [
    "lsta4 = pd.concat(g, ignore_index= True) "
   ]
  },
  {
   "cell_type": "code",
   "execution_count": 58,
   "id": "fbf0291e",
   "metadata": {},
   "outputs": [],
   "source": [
    "lsta5 = pd.concat(g, ignore_index= True) "
   ]
  },
  {
   "cell_type": "code",
   "execution_count": 60,
   "id": "b26972d4",
   "metadata": {},
   "outputs": [],
   "source": [
    "lsta6 = pd.concat(g, ignore_index= True) "
   ]
  },
  {
   "cell_type": "code",
   "execution_count": 64,
   "id": "f0127dbb",
   "metadata": {},
   "outputs": [],
   "source": [
    "lsta7 = pd.concat(g, ignore_index= True) "
   ]
  },
  {
   "cell_type": "code",
   "execution_count": 67,
   "id": "3256f04d",
   "metadata": {},
   "outputs": [],
   "source": [
    "lsta8 = pd.concat(g, ignore_index= True) "
   ]
  },
  {
   "cell_type": "code",
   "execution_count": 69,
   "id": "cb09187d",
   "metadata": {},
   "outputs": [],
   "source": [
    "lsta9 = pd.concat(g, ignore_index= True) "
   ]
  },
  {
   "cell_type": "code",
   "execution_count": 72,
   "id": "c1eb2597",
   "metadata": {},
   "outputs": [],
   "source": [
    "lsta10 = pd.concat(g, ignore_index= True) "
   ]
  },
  {
   "cell_type": "code",
   "execution_count": 74,
   "id": "48ec55da",
   "metadata": {},
   "outputs": [],
   "source": [
    "lsta11 = pd.concat(g, ignore_index= True) "
   ]
  },
  {
   "cell_type": "code",
   "execution_count": 78,
   "id": "e0d99f61",
   "metadata": {},
   "outputs": [],
   "source": [
    "lsta12 = pd.concat(g, ignore_index= True) "
   ]
  },
  {
   "cell_type": "code",
   "execution_count": 80,
   "id": "334cdbd6",
   "metadata": {},
   "outputs": [],
   "source": [
    "lsta13 = pd.concat(g, ignore_index= True) "
   ]
  },
  {
   "cell_type": "code",
   "execution_count": 82,
   "id": "08a90b17",
   "metadata": {},
   "outputs": [],
   "source": [
    "lsta14 = pd.concat(g, ignore_index= True) "
   ]
  },
  {
   "cell_type": "code",
   "execution_count": 87,
   "id": "d70fe416",
   "metadata": {},
   "outputs": [],
   "source": [
    "lsta15 = pd.concat(g, ignore_index= True) "
   ]
  },
  {
   "cell_type": "code",
   "execution_count": 89,
   "id": "2e923db8",
   "metadata": {},
   "outputs": [],
   "source": [
    "lsta16 = pd.concat(g, ignore_index= True) "
   ]
  },
  {
   "cell_type": "code",
   "execution_count": 93,
   "id": "f2499e89",
   "metadata": {},
   "outputs": [],
   "source": [
    "lsta17 = pd.concat(g, ignore_index= True) "
   ]
  },
  {
   "cell_type": "code",
   "execution_count": 96,
   "id": "6514c9f5",
   "metadata": {},
   "outputs": [],
   "source": [
    "lsta18 = pd.concat(g, ignore_index= True) "
   ]
  },
  {
   "cell_type": "code",
   "execution_count": 98,
   "id": "9cf46c19",
   "metadata": {},
   "outputs": [],
   "source": [
    "lsta19 = pd.concat(g, ignore_index= True) "
   ]
  },
  {
   "cell_type": "code",
   "execution_count": 100,
   "id": "e2ad72ef",
   "metadata": {},
   "outputs": [],
   "source": [
    "lsta20 = pd.concat(g, ignore_index= True) "
   ]
  },
  {
   "cell_type": "code",
   "execution_count": 184,
   "id": "ed475a7f",
   "metadata": {},
   "outputs": [],
   "source": [
    "lista_all= [lsta1,lsta2,lsta3,lsta4,lsta5,lsta6,lsta7,lsta8,lsta9,lsta10,lsta11,lsta12,lsta13,lsta14,lsta15,lsta16,lsta17,lsta18,lsta19,lsta20]"
   ]
  },
  {
   "cell_type": "code",
   "execution_count": 115,
   "id": "b9c5a3aa",
   "metadata": {},
   "outputs": [
    {
     "data": {
      "text/plain": [
       "'2000'"
      ]
     },
     "execution_count": 115,
     "metadata": {},
     "output_type": "execute_result"
    }
   ],
   "source": [
    "lista_all[0].iloc[0][3]"
   ]
  },
  {
   "cell_type": "code",
   "execution_count": 137,
   "id": "03ccb116",
   "metadata": {},
   "outputs": [
    {
     "data": {
      "text/plain": [
       "'22461348'"
      ]
     },
     "execution_count": 137,
     "metadata": {},
     "output_type": "execute_result"
    }
   ],
   "source": [
    "lista_all[17].population[0].replace(\",\",\"\")\n",
    "lista_all[0].population[0].replace(\",\",\"\")"
   ]
  },
  {
   "cell_type": "code",
   "execution_count": 190,
   "id": "e94333ec",
   "metadata": {},
   "outputs": [],
   "source": [
    "for j in range(len(lista_all[18])):\n",
    "    lista_all[17].population[j]= lista_all[17].population[j].replace(\",\",\"\")"
   ]
  },
  {
   "cell_type": "code",
   "execution_count": 249,
   "id": "f28ef98c",
   "metadata": {},
   "outputs": [],
   "source": [
    "def integr(x):\n",
    "    \n",
    "        \n",
    "    for i in range(len(x)):\n",
    "        try:\n",
    "    \n",
    "        \n",
    "        \n",
    "            \n",
    "            x[i].rank = x[i].rank.replace(\".\",\"\")\n",
    "            x[i]= x[i].astype({'population':'int64','year':'int32','rank':'int32'})\n",
    "        \n",
    "        except:\n",
    "            return print(x[i])\n",
    "       \n",
    "        \n",
    "    \n",
    "        \n",
    "            \n",
    "        "
   ]
  },
  {
   "cell_type": "code",
   "execution_count": 202,
   "id": "523cd09f",
   "metadata": {},
   "outputs": [],
   "source": [
    "def integ(x):\n",
    "    try:\n",
    "        \n",
    "        for j in range(len(x)):\n",
    "        \n",
    "        \n",
    "            x.population[j] = int(x.population[j])\n",
    "            x.year[j] = int(x.year[j])\n",
    "            \n",
    "    except:\n",
    "        print(\"error\")\n",
    "        \n",
    "        "
   ]
  },
  {
   "cell_type": "code",
   "execution_count": 250,
   "id": "b88fb676",
   "metadata": {},
   "outputs": [
    {
     "name": "stdout",
     "output_type": "stream",
     "text": [
      "     rank         country  population  year\n",
      "0     46.     Afghanistan    22461348  2000\n",
      "1    130.         Albania     3158352  2000\n",
      "2     36.         Algeria    30429228  2000\n",
      "3    205.  American Samoa       57771  2000\n",
      "4    202.         Andorra       65099  2000\n",
      "..    ...             ...         ...   ...\n",
      "223  142.       West Bank     1979647  2000\n",
      "224  173.  Western Sahara      336295  2000\n",
      "225   54.           Yemen    17407262  2000\n",
      "226   73.          Zambia    10345174  2000\n",
      "227   65.        Zimbabwe    11820025  2000\n",
      "\n",
      "[228 rows x 4 columns]\n"
     ]
    }
   ],
   "source": [
    "integr(lista_all)"
   ]
  },
  {
   "cell_type": "code",
   "execution_count": 206,
   "id": "981404cc",
   "metadata": {},
   "outputs": [
    {
     "data": {
      "text/plain": [
       "3158352"
      ]
     },
     "execution_count": 206,
     "metadata": {},
     "output_type": "execute_result"
    }
   ],
   "source": [
    "lsta1.population[1]"
   ]
  },
  {
   "cell_type": "code",
   "execution_count": 224,
   "id": "1dc68f60",
   "metadata": {},
   "outputs": [],
   "source": [
    "lista_all[17]= lista_all[17].astype({'population':'int64','year':'int32'})"
   ]
  },
  {
   "cell_type": "code",
   "execution_count": 230,
   "id": "50d7b5a5",
   "metadata": {},
   "outputs": [
    {
     "name": "stdout",
     "output_type": "stream",
     "text": [
      "<class 'pandas.core.frame.DataFrame'>\n",
      "RangeIndex: 228 entries, 0 to 227\n",
      "Data columns (total 4 columns):\n",
      " #   Column      Non-Null Count  Dtype \n",
      "---  ------      --------------  ----- \n",
      " 0   rank        228 non-null    object\n",
      " 1   country     228 non-null    object\n",
      " 2   population  228 non-null    int64 \n",
      " 3   year        228 non-null    int32 \n",
      "dtypes: int32(1), int64(1), object(2)\n",
      "memory usage: 6.4+ KB\n"
     ]
    }
   ],
   "source": [
    "lista_all[14].info()"
   ]
  },
  {
   "cell_type": "code",
   "execution_count": null,
   "id": "343fba18",
   "metadata": {},
   "outputs": [],
   "source": [
    "lista_all[i].population[j] = int(lista_all[i].population[j].replace(\",\",\"\"))\n",
    "        lista_all[i].year[j] = int(lista_all[i].year[j])"
   ]
  },
  {
   "cell_type": "code",
   "execution_count": 248,
   "id": "c2b7f4f8",
   "metadata": {},
   "outputs": [
    {
     "name": "stdout",
     "output_type": "stream",
     "text": [
      "<class 'pandas.core.frame.DataFrame'>\n",
      "RangeIndex: 228 entries, 0 to 227\n",
      "Data columns (total 4 columns):\n",
      " #   Column      Non-Null Count  Dtype \n",
      "---  ------      --------------  ----- \n",
      " 0   rank        228 non-null    object\n",
      " 1   country     228 non-null    object\n",
      " 2   population  228 non-null    int64 \n",
      " 3   year        228 non-null    int32 \n",
      "dtypes: int32(1), int64(1), object(2)\n",
      "memory usage: 6.4+ KB\n"
     ]
    }
   ],
   "source": [
    "lista_all[19].info()"
   ]
  },
  {
   "cell_type": "code",
   "execution_count": 241,
   "id": "4103e7ee",
   "metadata": {},
   "outputs": [
    {
     "name": "stdout",
     "output_type": "stream",
     "text": [
      "<class 'pandas.core.frame.DataFrame'>\n",
      "RangeIndex: 228 entries, 0 to 227\n",
      "Data columns (total 4 columns):\n",
      " #   Column      Non-Null Count  Dtype \n",
      "---  ------      --------------  ----- \n",
      " 0   rank        228 non-null    object\n",
      " 1   country     228 non-null    object\n",
      " 2   population  228 non-null    object\n",
      " 3   year        228 non-null    object\n",
      "dtypes: object(4)\n",
      "memory usage: 7.2+ KB\n"
     ]
    }
   ],
   "source": [
    "lsta18.info()"
   ]
  },
  {
   "cell_type": "code",
   "execution_count": 252,
   "id": "af75e7dc",
   "metadata": {},
   "outputs": [],
   "source": [
    "for i in range(len(lista_all)):\n",
    "    lista_all[i].to_csv(f'C:\\\\Users\\\\pabli\\\\apuntes_de_clase\\\\Proyecto-ETL\\data\\\\lsta{i}.csv')"
   ]
  },
  {
   "cell_type": "code",
   "execution_count": null,
   "id": "527d9c07",
   "metadata": {},
   "outputs": [],
   "source": []
  }
 ],
 "metadata": {
  "kernelspec": {
   "display_name": "Python 3 (ipykernel)",
   "language": "python",
   "name": "python3"
  },
  "language_info": {
   "codemirror_mode": {
    "name": "ipython",
    "version": 3
   },
   "file_extension": ".py",
   "mimetype": "text/x-python",
   "name": "python",
   "nbconvert_exporter": "python",
   "pygments_lexer": "ipython3",
   "version": "3.9.12"
  }
 },
 "nbformat": 4,
 "nbformat_minor": 5
}
